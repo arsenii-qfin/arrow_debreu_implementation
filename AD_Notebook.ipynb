{
 "cells": [
  {
   "cell_type": "markdown",
   "id": "f79d2562-464c-49ab-8fdc-1573d2d7ba14",
   "metadata": {},
   "source": [
    " ###"
   ]
  },
  {
   "cell_type": "markdown",
   "id": "c751934f-0d74-4ea9-acd5-f5581d53b09a",
   "metadata": {},
   "source": [
    "<center><h1> $\\text{Arrow Debreu Option Pricing Implementation}$ </h1> </center>\n",
    "<center>$\\text{by Arsenii H., Institute of Mathematical Finance}$</center>"
   ]
  },
  {
   "cell_type": "markdown",
   "id": "e563c4e8-2ceb-493e-bf99-3cc95ee88a6f",
   "metadata": {
    "jp-MarkdownHeadingCollapsed": true
   },
   "source": [
    "### I: Introduction. \n",
    "> This notebook implements the Arrow-Debreu [model](https://en.wikipedia.org/wiki/Arrow%E2%80%93Debreu_model) to \"fairly\" price European options and detect arbitrage opportunities, alongside calculating the risk free profit. The ideas is to consider every possible contingent claim based on [sate prices](https://en.wikipedia.org/wiki/State_prices)."
   ]
  },
  {
   "cell_type": "markdown",
   "id": "76724b92-39c8-4d4d-955f-ac4e6aede5ee",
   "metadata": {
    "jp-MarkdownHeadingCollapsed": true
   },
   "source": [
    "### I.I: Definitions.\n",
    "* **Option** - The right, but not the obligation to buy or sell a hundred units of the underying security at a predetermined price called \"strike\", and on a predetermined date called \"expiry\".\n",
    "* **Terminal States** - Possible future prices of the underlying asset. Denoted $S = \\{S_1, S_2, \\ldots, S_n\\}$ This is a discrete approximation for what is actually a continuous distribution. However for practical purposes and we choose feasible discrete intervals. (ex. 80, 90, 100, 110).\n",
    "* **Payoff Vector** - Each option corresponds to a row vector of payoffs across terminal states. These row vectors make up the matrix $F$.\n",
    "* **State Price** - Also referred to as Arrow Debreu price the present value of recieving 1 dollar iff the underlying price at expiration ends up in that specific terminal state. It reflects the time-value of money, the market consensus about future risk, and no arbitrage (ex. suppose there're only 3 possible terminal states the underlying could end up at: $ S_{i} \\in \\{80, 90, 100\\} $, then the state prices $\\vec{\\pi} = [\\pi_{80}, \\pi_{90}, \\pi_{100}]$ tells us today's price of recieving 1 dollar in the future is the underlyig ends at that subscript).\n",
    "* **[Risk-Neutral Probailities](https://www.investopedia.com/terms/r/risk-neutral-probabilities.asp)** - the probabilities of possible future outcomes that have been asjusted for risk, denoted $q_i=\\frac{\\pi_{i}}{e^{-rT}}=\\pi_{i} \\cdot e^{rT}$\n",
    "* **[Complete Market](https://en.wikipedia.org/wiki/Complete_market)** - a market with negligible transaction costs, perfect information and a set price for every asset in every possible state. For practical purposes some of these assumptions may be altered."
   ]
  },
  {
   "cell_type": "markdown",
   "id": "9abde137-6bd5-4030-ac07-cb7faa741523",
   "metadata": {},
   "source": [
    "### II: General Form."
   ]
  },
  {
   "cell_type": "markdown",
   "id": "d3852d9f-e6db-4846-838b-b5fa317e48fd",
   "metadata": {},
   "source": [
    "<center style=\"font-size: 150%\">\n",
    "$\\vec{p} = F\\vec{\\pi}$\n",
    "</center>"
   ]
  },
  {
   "cell_type": "markdown",
   "id": "c89b238c-f0ea-4173-8209-a9520fcc691d",
   "metadata": {},
   "source": [
    "* $\\vec{p}$ - a vector of current call/put prices (all the same maturity). <br>\n",
    "* ${F}$ - ${m \\times n}$ matrix of payoffs with $m$ options and $n$ states. Where each row corresponds to an option and each column corresponds to a possible terminal state of the underlying.\n",
    "* $\\vec{\\pi}$ - a vector of state prices.\n",
    "> Each observed option price is a weighted average of possible future payoffs, weighted by the present value of receiving 1 dollar in that state. The payoff matrix $F$ maps states to payoffs. The vector $\\vec{\\pi}$ maps states to dollar values today. Then, multiplying them gives the current prices of the options."
   ]
  },
  {
   "cell_type": "markdown",
   "id": "dd54cca5-65fe-4e61-b0df-3119424cbe9f",
   "metadata": {},
   "source": [
    "### II.I: Solve For $\\vec{\\pi}$."
   ]
  },
  {
   "cell_type": "markdown",
   "id": "65de1869-777b-4360-ab18-f7e8da07de1a",
   "metadata": {},
   "source": [
    "<center style = \"font-size: 150%\">\n",
    "    $\\vec{\\pi} = F^{-1}\\vec{p}$\n",
    "</center>"
   ]
  },
  {
   "cell_type": "markdown",
   "id": "ae121f99-6d13-445c-a851-d044ae2e90c3",
   "metadata": {},
   "source": [
    "> At this step we invert the payoff matrix (assuming it's invertable) using NumPy, solving for the implied Arrow-Debreu securities prices, in our case options."
   ]
  },
  {
   "cell_type": "markdown",
   "id": "25de3039-53cb-4883-8f74-43bf0770023d",
   "metadata": {},
   "source": [
    "### III: Fair Price."
   ]
  },
  {
   "cell_type": "markdown",
   "id": "df1d8a6e-ec8f-44f8-8864-f78cfbf86e85",
   "metadata": {},
   "source": [
    "<center style = \"font-size: 150%\">\n",
    "    $\\alpha = \\displaystyle\\sum_{i=1}^n{\\pi_i} \\cdot f(S_{i}) = \\langle \\vec{\\pi} \\cdot \\vec{f(S_i)} \\rangle$\n",
    "</center>"
   ]
  },
  {
   "cell_type": "markdown",
   "id": "279abe3a-5fba-4c1e-9c3c-acd815451237",
   "metadata": {},
   "source": [
    "* $\\alpha$ - the fair price of an option. <br>\n",
    "* $\\pi_{i}$ - the Arrow Debreu price for state $i$. <br>\n",
    "* $f(S_{i})$ - the payoff of terminal price $S$ at state $i$ of option $p$.\n",
    "* Note: the summation version is equivalent to the dot product version.\n",
    "* For call options with strike K:\n",
    "<center>$f_c(S_{i}) = max(0, S_i - K)$ </center>\n",
    "* For put options with strike K: \n",
    "<center>$f_p(S_{i}) = max(0, K - S_i)$</center>"
   ]
  },
  {
   "cell_type": "markdown",
   "id": "b4dce191-e402-48d6-990a-25dd65367de9",
   "metadata": {},
   "source": [
    "### IV: Probabilites."
   ]
  },
  {
   "cell_type": "markdown",
   "id": "7b3b271b-1a80-48b1-83a2-76223eeb6be0",
   "metadata": {},
   "source": [
    "<center style = \"font-size: 120%\">\n",
    "    $q_i=\\pi_{i} \\cdot e^{rT} \\implies \\displaystyle\\sum_{i}^n{q_i}=1$ \n",
    "</center>"
   ]
  },
  {
   "cell_type": "markdown",
   "id": "b46f9e72-7d39-4e7b-a9e1-459d6f0bb1b4",
   "metadata": {},
   "source": [
    "> This works because each $\\pi_i$ is what you'd pay today to recieve 1 dollar iff state $i$ occurs according to the market implied likelihood. And since everything is scaled to a dollar that becomes the implied probability when adjusted for the time value of money. And since $q$ is risk-neutral probabilities, its elements must sum to one."
   ]
  },
  {
   "cell_type": "markdown",
   "id": "4f54de19-a500-4469-9b1a-69f99293644d",
   "metadata": {},
   "source": [
    "### V: Data."
   ]
  },
  {
   "cell_type": "markdown",
   "id": "b5b97ae3-78db-477d-8af3-78e4cf8d72bd",
   "metadata": {},
   "source": [
    "* <ins>Strike Prices</ins>: $K = \\{K_1, K_2, \\ldots , K_n\\}$. They define the contracts used to construct the system (preferably the same for calls and puts).\n",
    "* <ins>Call/Put Options Premiums</ins>: $ \\vec{p} = [p_1, p_2, \\ldots, p_n]$ i.e the current market price of options at each $K_{i}$.\n",
    "* <ins>Underlying Spot Price</ins>: $S$ to help define reasonable strike prices.\n",
    "* <ins>Time to Maturity</ins>: $T$ (in years).\n",
    "* <ins>Risk-Free Rate</ins>: $r$ (T-bill/note/bond yeild).\n",
    "* <ins>Discounting Factor</ins>: $e^{-rT}$ Continuously compounding discounting factor. Optional for short-term, but necessary for risk-neutral probabilities."
   ]
  }
 ],
 "metadata": {
  "kernelspec": {
   "display_name": "Python [conda env:portfolio_analyzer_venv]",
   "language": "python",
   "name": "conda-env-portfolio_analyzer_venv-py"
  },
  "language_info": {
   "codemirror_mode": {
    "name": "ipython",
    "version": 3
   },
   "file_extension": ".py",
   "mimetype": "text/x-python",
   "name": "python",
   "nbconvert_exporter": "python",
   "pygments_lexer": "ipython3",
   "version": "3.12.0"
  }
 },
 "nbformat": 4,
 "nbformat_minor": 5
}
