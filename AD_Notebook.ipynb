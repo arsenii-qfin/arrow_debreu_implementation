{
 "cells": [
  {
   "cell_type": "markdown",
   "id": "c89b238c-f0ea-4173-8209-a9520fcc691d",
   "metadata": {},
   "source": [
    "$\\vec{p}_{call/put} = F⋅\\vec{\\pi}$ <br>\n",
    "* $\\vec{p}$ is the vector of current call/put prices <br>\n",
    "* $F$ is the matrix of payoffs. Each row corresponds to a call option’s payoff vector over terminal states <br>\n",
    "   Each row $F_{ij} = max(0, S_j-E_i)$ - for calls <br>\n",
    "   Each row $F_{ij} = max(0, E_i-S_j)$ - for puts\n",
    "* $\\vec{\\pi}$ is the state price vector, i.e implied AD prices (value today of $1 paid in each possible state) <br>"
   ]
  },
  {
   "cell_type": "markdown",
   "id": "65de1869-777b-4360-ab18-f7e8da07de1a",
   "metadata": {},
   "source": [
    "**We are solving for** $\\vec{\\pi}$ <br>\n",
    "* $\\vec{\\pi} = \\vec{p}\\cdot F^{-1}$"
   ]
  },
  {
   "cell_type": "markdown",
   "id": "b5b97ae3-78db-477d-8af3-78e4cf8d72bd",
   "metadata": {},
   "source": [
    "**Need to fetch from some API:** <br>\n",
    "* Strike Prices: $K_1, K_2, \\ldots , K_n$ i.e these define the contracts used to construct the system.\n",
    "* Call/Put Options Prices: $p_1, p_2, \\ldots, p_n$ i.e the current market price of options at each price.\n",
    "* Underlying Asset Price: $S$ to help define reasonable strike price interval."
   ]
  },
  {
   "cell_type": "markdown",
   "id": "17beb95f-e003-4d21-9d41-d3a651c53607",
   "metadata": {},
   "source": [
    "**Knowing $\\vec{\\pi}$ there we can find $q_i$** <br>\n",
    "* $q_i$ - the risk neutral probablities\n",
    "* $q_i = \\frac{\\vec{\\pi}}{e^{-rT}}$ where $e^{-rT}$ is the discounting factor with r = interest rate, and T = time to expiry."
   ]
  },
  {
   "cell_type": "markdown",
   "id": "7b3b271b-1a80-48b1-83a2-76223eeb6be0",
   "metadata": {},
   "source": [
    "**Sine $q_i$ are probabilities they must sum up to** 1:\n",
    "* $\\displaystyle\\sum_{i}^n{q_i}=1$"
   ]
  },
  {
   "cell_type": "markdown",
   "id": "279abe3a-5fba-4c1e-9c3c-acd815451237",
   "metadata": {},
   "source": [
    "**Fair Price for call/put** = $\\displaystyle\\sum_{i=1}^n{\\pi_i} \\cdot Payoff(S_i)$ <br>\n",
    "* where $Payoff(S_i)$ is the payoff of the option at expiry, if the underlying ends up at $S_i$ <br>\n",
    "**In vector notation** = FairPrice for call/put = $\\vec{\\pi^T} \\cdot \\vec{f}$ where $\\vec{f}$ is the payoff of your desired option at each possible future price <br>\n",
    "* For call options with strike K: $f_{i} = max(0, S_i - K)$\n",
    "* For put options with strike K: $f_{i} = max(0, K - S_i)$"
   ]
  },
  {
   "cell_type": "code",
   "execution_count": null,
   "id": "57e5a8b5-9bb0-445e-931a-abcb29914d8e",
   "metadata": {},
   "outputs": [],
   "source": []
  },
  {
   "cell_type": "code",
   "execution_count": null,
   "id": "4c5b81bc-35f9-4766-a1e9-704df89fcd48",
   "metadata": {},
   "outputs": [],
   "source": [
    "\n"
   ]
  }
 ],
 "metadata": {
  "kernelspec": {
   "display_name": "Python [conda env:base] *",
   "language": "python",
   "name": "conda-base-py"
  },
  "language_info": {
   "codemirror_mode": {
    "name": "ipython",
    "version": 3
   },
   "file_extension": ".py",
   "mimetype": "text/x-python",
   "name": "python",
   "nbconvert_exporter": "python",
   "pygments_lexer": "ipython3",
   "version": "3.12.7"
  }
 },
 "nbformat": 4,
 "nbformat_minor": 5
}
