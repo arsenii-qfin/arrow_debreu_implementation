{
 "cells": [
  {
   "cell_type": "markdown",
   "id": "f79d2562-464c-49ab-8fdc-1573d2d7ba14",
   "metadata": {},
   "source": [
    " ###"
   ]
  },
  {
   "cell_type": "markdown",
   "id": "c751934f-0d74-4ea9-acd5-f5581d53b09a",
   "metadata": {},
   "source": [
    "# $\\text{Arrow Debreu European Option Pricing}$"
   ]
  },
  {
   "cell_type": "markdown",
   "id": "e563c4e8-2ceb-493e-bf99-3cc95ee88a6f",
   "metadata": {
    "jp-MarkdownHeadingCollapsed": true
   },
   "source": [
    "### I: Introduction. \n",
    "> This notebook implements the Arrow-Debreu [model](https://en.wikipedia.org/wiki/Arrow%E2%80%93Debreu_model) to price European options and detect arbitrage opportunities, alongside calculating the risk free profit. The ideas is to consider every possible contingent claim based on [sate prices](https://en.wikipedia.org/wiki/State_prices)."
   ]
  },
  {
   "cell_type": "markdown",
   "id": "76724b92-39c8-4d4d-955f-ac4e6aede5ee",
   "metadata": {
    "jp-MarkdownHeadingCollapsed": true
   },
   "source": [
    "### I.I: Definitions.\n",
    "* **Arrow-Debreu Model Wiki [Page](https://en.wikipedia.org/wiki/Arrow%E2%80%93Debreu_model)**\n",
    "* **Terminal States** - Possible future prices of the underlying asset. Denoted $S = \\{S_1, S_2, \\ldots, S_n\\}$ This is a discrete approximation for what is actually a continuous distribution (ex. 80, 90, 100, 110).\n",
    "* **Payoff Vector** - Each option corresponds to a row vector of payoffs across terminal states. These row vectors make up the matrix $F$.\n",
    "* **[State Price](https://en.wikipedia.org/wiki/State_prices)** - Also referred to as Arrow Debreu price the present value of recieving 1 dollar iff the underlying price at expiration ends up in that specific terminal state. If $ S \\in \\{80, 90, 100\\} $, then the state prices $\\vec{\\pi} = [\\pi_{80}, \\pi_{90}, \\pi_{100}]$ tell us today's price of recieving 1 dollar in the future is the underlyig ends at that subscript.\n",
    "* **[Risk-Neutral Probailities](https://www.investopedia.com/terms/r/risk-neutral-probabilities.asp)** - the probabilities of possible future outcomes that have been asjusted for risk, denoted $q_i=\\frac{\\pi_{i}}{e^{-rT}}=\\pi_{i} \\cdot e^{rT}$\n",
    "* **[Complete Market](https://en.wikipedia.org/wiki/Complete_market)** - a market with negligible transaction costs, perfect information and a set price for every asset in every possible state. For practical purposes some of these assumptions may be altered."
   ]
  },
  {
   "cell_type": "markdown",
   "id": "9abde137-6bd5-4030-ac07-cb7faa741523",
   "metadata": {},
   "source": [
    "### II: General Form."
   ]
  },
  {
   "cell_type": "markdown",
   "id": "d3852d9f-e6db-4846-838b-b5fa317e48fd",
   "metadata": {},
   "source": [
    "### $$F\\vec{\\pi} = \\vec{p}$$"
   ]
  },
  {
   "cell_type": "markdown",
   "id": "c89b238c-f0ea-4173-8209-a9520fcc691d",
   "metadata": {},
   "source": [
    "* $\\vec{p}$ - a vector of current call/put prices (all the same maturity). <br>\n",
    "* ${F}$ - ${m \\times n}$ matrix of payoffs with $m$ options and $n$ states. Where each row corresponds to an option and each column corresponds to a possible terminal state of the underlying.\n",
    "* $\\vec{\\pi}$ - a vector of state prices.\n",
    "> Each observed option price is a weighted average of possible future payoffs, weighted by the present value of receiving 1 dollar in that state. The payoff matrix $F$ maps states to payoffs. The vector $\\vec{\\pi}$ maps states to dollar values today. Then, multiplying them gives the current prices of the options."
   ]
  },
  {
   "cell_type": "markdown",
   "id": "dd54cca5-65fe-4e61-b0df-3119424cbe9f",
   "metadata": {},
   "source": [
    "### II.I: Find $\\vec{\\pi}$ (Matrix Inversion)"
   ]
  },
  {
   "cell_type": "markdown",
   "id": "65de1869-777b-4360-ab18-f7e8da07de1a",
   "metadata": {},
   "source": [
    "### $$\\vec{\\pi} = F^{-1}\\vec{p}$$"
   ]
  },
  {
   "cell_type": "markdown",
   "id": "ae121f99-6d13-445c-a851-d044ae2e90c3",
   "metadata": {},
   "source": [
    "> At this step we invert the payoff matrix using NumPy. However, more ofthen than not, the payoff matrix is not invertable for various reasons, which forces us to use the least squares method. "
   ]
  },
  {
   "cell_type": "markdown",
   "id": "6c2bc344-9c61-4941-bd0e-bc33e4233de7",
   "metadata": {},
   "source": [
    "### II.II: Find $\\vec{\\pi}$ (Least Squares Method)"
   ]
  },
  {
   "cell_type": "markdown",
   "id": "39d71c3f-bab2-4bc9-b292-08bf599bec04",
   "metadata": {},
   "source": [
    "### $$F^T F \\vec{\\pi} = F^T \\vec{p} \\implies \\vec{\\pi} = (F^TF)^{-1} F^T\\vec{p}$$"
   ]
  },
  {
   "cell_type": "markdown",
   "id": "12874b84-8aeb-4dd3-945a-787d0b073a7c",
   "metadata": {},
   "source": [
    "> LSM does not necessarily give the exact solution, rather the best approximation. This fact is embedded in the name \"Least Squares\", referring to minimizing the sum of the squares of the residuals (the line of best fit for higher dimention matrices)."
   ]
  },
  {
   "cell_type": "markdown",
   "id": "25de3039-53cb-4883-8f74-43bf0770023d",
   "metadata": {},
   "source": [
    "### III: Fair Price."
   ]
  },
  {
   "cell_type": "markdown",
   "id": "df1d8a6e-ec8f-44f8-8864-f78cfbf86e85",
   "metadata": {},
   "source": [
    "### $$\\alpha = \\displaystyle\\sum_{i=1}^n{\\pi_i} \\cdot f(S_{i}) = \\langle \\vec{\\pi} \\cdot \\vec{f(S_i)} \\rangle$$"
   ]
  },
  {
   "cell_type": "markdown",
   "id": "279abe3a-5fba-4c1e-9c3c-acd815451237",
   "metadata": {},
   "source": [
    "* $\\alpha$ - the fair price of an option. <br>\n",
    "* $\\pi_{i}$ - the Arrow Debreu price for state $i$. <br>\n",
    "* $f(S_{i})$ - the payoff of terminal price $S$ at state $i$ of option $p$.\n",
    "* Note: the summation version is equivalent to the dot product version.\n",
    "  \n",
    "* For call options with strike K:\n",
    "<center>$f_c(S_{i}) = max(0, S_i - K)$ </center>\n",
    "* For put options with strike K: \n",
    "<center>$f_p(S_{i}) = max(0, K - S_i)$</center>"
   ]
  },
  {
   "cell_type": "markdown",
   "id": "b4dce191-e402-48d6-990a-25dd65367de9",
   "metadata": {},
   "source": [
    "### III.I: Probabilites."
   ]
  },
  {
   "cell_type": "markdown",
   "id": "7b3b271b-1a80-48b1-83a2-76223eeb6be0",
   "metadata": {},
   "source": [
    "### $$q_i=\\pi_{i} \\cdot e^{rT} \\implies \\displaystyle\\sum_{i}^n{q_i}=1$$"
   ]
  },
  {
   "cell_type": "markdown",
   "id": "b46f9e72-7d39-4e7b-a9e1-459d6f0bb1b4",
   "metadata": {},
   "source": [
    "> This works because each $\\pi_i$ is what you'd pay today to recieve 1 dollar iff state $i$ occurs according to the market implied likelihood. And since everything is scaled to a dollar that becomes the implied probability when adjusted for the time value of money. And since $q$ is risk-neutral probabilities, its elements must sum to one."
   ]
  },
  {
   "cell_type": "markdown",
   "id": "4f54de19-a500-4469-9b1a-69f99293644d",
   "metadata": {},
   "source": [
    "### V: Data."
   ]
  },
  {
   "cell_type": "markdown",
   "id": "b5b97ae3-78db-477d-8af3-78e4cf8d72bd",
   "metadata": {},
   "source": [
    "* <ins>Strike Prices</ins>: $K = \\{K_1, K_2, \\ldots , K_n\\}$. They define the contracts used to construct the system (preferably the same for calls and puts).\n",
    "* <ins>Call/Put Options Premiums</ins>: $ \\vec{p} = [p_1, p_2, \\ldots, p_n]$ i.e the current market price of options at each $K_{i}$.\n",
    "* <ins>Underlying Spot Price</ins>: $S$ to help define reasonable strike prices.\n",
    "* <ins>Time to Maturity</ins>: $T$ (in years).\n",
    "* <ins>Risk-Free Rate</ins>: $r$ (T-bill/note/bond yeild).\n",
    "* <ins>Discounting Factor</ins>: $e^{-rT}$ Continuously compounding discounting factor. Optional for short-term, but necessary for risk-neutral probabilities."
   ]
  },
  {
   "cell_type": "markdown",
   "id": "d5104b6c-020d-4b86-8fde-a366f3d185a5",
   "metadata": {},
   "source": [
    "### VI: Implementation:"
   ]
  },
  {
   "cell_type": "code",
   "execution_count": 253,
   "id": "4a716512-a3b1-4db2-a29e-69f308e5f1cd",
   "metadata": {},
   "outputs": [],
   "source": [
    "import yfinance as yf\n",
    "import numpy as np\n",
    "import pandas as pd\n",
    "import matplotlib.pyplot as plt\n",
    "from scipy.optimize import nnls"
   ]
  },
  {
   "cell_type": "code",
   "execution_count": 254,
   "id": "c02536d0-7501-4623-be60-6b8c17af31d8",
   "metadata": {},
   "outputs": [
    {
     "name": "stdout",
     "output_type": "stream",
     "text": [
      "Using Expiry: 2025-06-13\n"
     ]
    }
   ],
   "source": [
    "ticker = 'AAPL'\n",
    "ticker_data = yf.Ticker(ticker)\n",
    "expiry = ticker_data.options[4]\n",
    "print('Using Expiry:', expiry)\n",
    "chain = ticker_data.option_chain(expiry)\n",
    "calls = chain.calls #the pricing will be based just on calls which takes away a bit of accuracy but is not crusial in this case."
   ]
  },
  {
   "cell_type": "code",
   "execution_count": 255,
   "id": "2e2f2111-aebf-480a-9f6a-838717b17073",
   "metadata": {},
   "outputs": [
    {
     "name": "stdout",
     "output_type": "stream",
     "text": [
      "Using Spot: 210.9499969482422\n",
      "Will be pricing options for the following spot prices: [160 165 170 175 180 185 190 195 200 205 210 215 220 225 230 235 240 245\n",
      " 250 255 260] expiring on 2025-06-13 (same as options used for analysis)\n"
     ]
    }
   ],
   "source": [
    "spot = ticker_data.history(period='1d')['Close'].iloc[-1]\n",
    "possible_states = possible_states = np.round(np.linspace(spot - 50, spot + 50, 21, dtype=int))\n",
    "print('Using Spot:', spot)\n",
    "print(f'Will be pricing options for the following spot prices: {possible_states} expiring on {expiry} (same as options used for analysis)')"
   ]
  },
  {
   "cell_type": "code",
   "execution_count": 256,
   "id": "17ef410d-4e6e-4bbf-a090-9e0c293c0982",
   "metadata": {},
   "outputs": [
    {
     "name": "stdout",
     "output_type": "stream",
     "text": [
      "Available Strikes:\n",
      " [110.0, 130.0, 135.0, 140.0, 150.0, 155.0, 160.0, 165.0, 170.0, 175.0, 180.0, 185.0, 190.0, 195.0, 200.0, 205.0, 210.0, 215.0, 220.0, 225.0, 230.0, 235.0, 240.0, 245.0, 250.0, 255.0, 260.0, 265.0, 270.0, 275.0, 280.0, 295.0, 305.0, 310.0]\n"
     ]
    }
   ],
   "source": [
    "available_strikes = sorted(calls[\"strike\"])\n",
    "print('Available Strikes:\\n', available_strikes)"
   ]
  },
  {
   "cell_type": "code",
   "execution_count": 257,
   "id": "d2d1b3e3-9aee-472b-b296-1dd335c3c37d",
   "metadata": {},
   "outputs": [
    {
     "name": "stdout",
     "output_type": "stream",
     "text": [
      "Index of the closest strike price to the spot price: 16\n"
     ]
    }
   ],
   "source": [
    "atm_index = min(range(len(available_strikes)), key=lambda i: abs(available_strikes[i] - spot))\n",
    "print('Index of the closest strike price to the spot price:', atm_index)"
   ]
  },
  {
   "cell_type": "code",
   "execution_count": 258,
   "id": "5300c1bd-a4e0-46a1-ab33-429ad0a0f4e3",
   "metadata": {},
   "outputs": [
    {
     "name": "stdout",
     "output_type": "stream",
     "text": [
      "Lower index bound: 6\n",
      " Upper undex bound: 27\n"
     ]
    }
   ],
   "source": [
    "lower_bound = max(atm_index - 10, 0)\n",
    "upper_bound = min(atm_index + 11, len(available_strikes))\n",
    "print(f'Lower index bound: {lower_bound}\\n', f'Upper undex bound: {upper_bound}')"
   ]
  },
  {
   "cell_type": "code",
   "execution_count": 259,
   "id": "95a217cb-b976-4aa0-86f6-a8f2931c0ecc",
   "metadata": {},
   "outputs": [
    {
     "name": "stdout",
     "output_type": "stream",
     "text": [
      "Selected 21 strikes around ATM: \n",
      " [160.0, 165.0, 170.0, 175.0, 180.0, 185.0, 190.0, 195.0, 200.0, 205.0, 210.0, 215.0, 220.0, 225.0, 230.0, 235.0, 240.0, 245.0, 250.0, 255.0, 260.0]\n"
     ]
    }
   ],
   "source": [
    "chosen_strikes = available_strikes[lower_bound:upper_bound]\n",
    "chosen_strikes = np.array(chosen_strikes)\n",
    "print(f'Selected {len(chosen_strikes)} strikes around ATM:', '\\n', sorted(chosen_strikes))"
   ]
  },
  {
   "cell_type": "code",
   "execution_count": 320,
   "id": "439f8aee-2996-4461-915c-2ff73ca1a97d",
   "metadata": {},
   "outputs": [
    {
     "data": {
      "text/html": [
       "<div>\n",
       "<style scoped>\n",
       "    .dataframe tbody tr th:only-of-type {\n",
       "        vertical-align: middle;\n",
       "    }\n",
       "\n",
       "    .dataframe tbody tr th {\n",
       "        vertical-align: top;\n",
       "    }\n",
       "\n",
       "    .dataframe thead th {\n",
       "        text-align: right;\n",
       "    }\n",
       "</style>\n",
       "<table border=\"1\" class=\"dataframe\">\n",
       "  <thead>\n",
       "    <tr style=\"text-align: right;\">\n",
       "      <th></th>\n",
       "      <th>strike</th>\n",
       "      <th>bid</th>\n",
       "      <th>ask</th>\n",
       "    </tr>\n",
       "  </thead>\n",
       "  <tbody>\n",
       "    <tr>\n",
       "      <th>0</th>\n",
       "      <td>160.0</td>\n",
       "      <td>51.25</td>\n",
       "      <td>51.85</td>\n",
       "    </tr>\n",
       "    <tr>\n",
       "      <th>1</th>\n",
       "      <td>165.0</td>\n",
       "      <td>46.10</td>\n",
       "      <td>46.85</td>\n",
       "    </tr>\n",
       "    <tr>\n",
       "      <th>2</th>\n",
       "      <td>170.0</td>\n",
       "      <td>41.30</td>\n",
       "      <td>41.95</td>\n",
       "    </tr>\n",
       "    <tr>\n",
       "      <th>3</th>\n",
       "      <td>175.0</td>\n",
       "      <td>36.25</td>\n",
       "      <td>37.55</td>\n",
       "    </tr>\n",
       "    <tr>\n",
       "      <th>4</th>\n",
       "      <td>180.0</td>\n",
       "      <td>31.80</td>\n",
       "      <td>32.25</td>\n",
       "    </tr>\n",
       "  </tbody>\n",
       "</table>\n",
       "</div>"
      ],
      "text/plain": [
       "   strike    bid    ask\n",
       "0   160.0  51.25  51.85\n",
       "1   165.0  46.10  46.85\n",
       "2   170.0  41.30  41.95\n",
       "3   175.0  36.25  37.55\n",
       "4   180.0  31.80  32.25"
      ]
     },
     "execution_count": 320,
     "metadata": {},
     "output_type": "execute_result"
    }
   ],
   "source": [
    "chosen_calls = calls[calls['strike'].isin(chosen_strikes)].copy().reset_index(drop=True)\n",
    "chosen_calls = chosen_calls[['strike', 'bid', 'ask']]\n",
    "chosen_calls.head()"
   ]
  },
  {
   "cell_type": "code",
   "execution_count": 326,
   "id": "405f741e-0d74-4d53-aa10-da8c74881838",
   "metadata": {},
   "outputs": [
    {
     "data": {
      "text/html": [
       "<div>\n",
       "<style scoped>\n",
       "    .dataframe tbody tr th:only-of-type {\n",
       "        vertical-align: middle;\n",
       "    }\n",
       "\n",
       "    .dataframe tbody tr th {\n",
       "        vertical-align: top;\n",
       "    }\n",
       "\n",
       "    .dataframe thead th {\n",
       "        text-align: right;\n",
       "    }\n",
       "</style>\n",
       "<table border=\"1\" class=\"dataframe\">\n",
       "  <thead>\n",
       "    <tr style=\"text-align: right;\">\n",
       "      <th></th>\n",
       "      <th>strike</th>\n",
       "      <th>price_vector</th>\n",
       "    </tr>\n",
       "  </thead>\n",
       "  <tbody>\n",
       "    <tr>\n",
       "      <th>0</th>\n",
       "      <td>160.0</td>\n",
       "      <td>51.550</td>\n",
       "    </tr>\n",
       "    <tr>\n",
       "      <th>1</th>\n",
       "      <td>165.0</td>\n",
       "      <td>46.475</td>\n",
       "    </tr>\n",
       "    <tr>\n",
       "      <th>2</th>\n",
       "      <td>170.0</td>\n",
       "      <td>41.625</td>\n",
       "    </tr>\n",
       "    <tr>\n",
       "      <th>3</th>\n",
       "      <td>175.0</td>\n",
       "      <td>36.900</td>\n",
       "    </tr>\n",
       "    <tr>\n",
       "      <th>4</th>\n",
       "      <td>180.0</td>\n",
       "      <td>32.025</td>\n",
       "    </tr>\n",
       "  </tbody>\n",
       "</table>\n",
       "</div>"
      ],
      "text/plain": [
       "   strike  price_vector\n",
       "0   160.0        51.550\n",
       "1   165.0        46.475\n",
       "2   170.0        41.625\n",
       "3   175.0        36.900\n",
       "4   180.0        32.025"
      ]
     },
     "execution_count": 326,
     "metadata": {},
     "output_type": "execute_result"
    }
   ],
   "source": [
    "chosen_calls['price_vector'] = (chosen_calls['bid']+chosen_calls['ask'])/2\n",
    "chosen_calls = chosen_calls[['strike', 'price_vector']]\n",
    "chosen_calls.head()"
   ]
  },
  {
   "cell_type": "code",
   "execution_count": 262,
   "id": "0db80000-7ca4-4843-b629-b7e44ff9e6dd",
   "metadata": {},
   "outputs": [
    {
     "name": "stdout",
     "output_type": "stream",
     "text": [
      "[160. 165. 170. 175. 180. 185. 190. 195. 200. 205. 210. 215. 220. 225.\n",
      " 230. 235. 240. 245. 250. 255. 260.]\n",
      "[51.55  46.475 41.625 36.9   32.025 27.125 22.475 18.15  14.    10.3\n",
      "  7.15   4.7    2.86   1.675  0.975  0.575  0.355  0.23   0.165  0.12\n",
      "  0.095]\n"
     ]
    }
   ],
   "source": [
    "strikes = chosen_calls[\"strike\"].values\n",
    "price_vector = chosen_calls[\"price_vector\"].values\n",
    "print(strikes)\n",
    "print(price_vector)"
   ]
  },
  {
   "cell_type": "code",
   "execution_count": 328,
   "id": "282eb7b5-a455-49cf-9ee2-d987b0178537",
   "metadata": {},
   "outputs": [
    {
     "name": "stdout",
     "output_type": "stream",
     "text": [
      "Call payoff matrix piece:\n",
      " [[ 0.  5. 10. 15. 20.]\n",
      " [ 0.  0.  5. 10. 15.]\n",
      " [ 0.  0.  0.  5. 10.]\n",
      " [ 0.  0.  0.  0.  5.]\n",
      " [ 0.  0.  0.  0.  0.]]\n",
      " Put payoff matrix piece\n",
      " [[ 0.  0.  0.  0.  0.]\n",
      " [ 5.  0.  0.  0.  0.]\n",
      " [10.  5.  0.  0.  0.]\n",
      " [15. 10.  5.  0.  0.]\n",
      " [20. 15. 10.  5.  0.]]\n",
      " Payoff matrices shape: (21, 21)\n"
     ]
    }
   ],
   "source": [
    "terminal_prices = strikes.copy()\n",
    "call_payoff_matrix = np.maximum(possible_states - chosen_strikes[:, None], 0)\n",
    "put_payoff_matrix  = np.maximum(chosen_strikes[:, None] - possible_states, 0)\n",
    "print(f'Call payoff matrix piece:\\n {call_payoff_matrix[:5,:5]}\\n Put payoff matrix piece\\n {put_payoff_matrix[:5,:5]}\\n Payoff matrices shape: {call_payoff_matrix.shape}')\n"
   ]
  },
  {
   "cell_type": "code",
   "execution_count": 330,
   "id": "90cc450f-0809-4b2b-b8e0-0cbd900d1ef2",
   "metadata": {},
   "outputs": [],
   "source": [
    "#state_prices, _, _, _ = np.linalg.lstsq(call_payoff_matrix, price_vector, rcond=None)\n",
    "state_prices, _ = nnls(call_payoff_matrix, price_vector)\n",
    "normalized_state_prices = state_prices/np.sum(state_prices)\n",
    "\n",
    "r=0.0438 #look up current 1m T-bill rate\n",
    "T=30/365\n",
    "probabilities = state_prices * np.e**(r*T)"
   ]
  },
  {
   "cell_type": "code",
   "execution_count": 334,
   "id": "f6f0b01d-d5fa-42fb-b699-96f5ca439640",
   "metadata": {},
   "outputs": [
    {
     "name": "stdout",
     "output_type": "stream",
     "text": [
      "The sum of (q): 1.0156497656364043 ≠ 1, suggests some error such as discretization, or arbitrage\n",
      "The sum of normalized state prices: 1.0\n",
      "p.s. \"np.linalg.lstsq\" was resulting in some values being negative so I had to use \"scipy.optimize.nnls\" i.e non-negative least squares.\n"
     ]
    }
   ],
   "source": [
    "print(f'The sum of (q): {np.sum(probabilities)} ≠ 1, suggests some error such as discretization, or arbitrage')\n",
    "print(f'The sum of normalized state prices: {np.sum(normalized_state_prices)}')\n",
    "print('p.s. \"np.linalg.lstsq\" was resulting in some values being negative so I had to use \"scipy.optimize.nnls\" i.e non-negative least squares.')"
   ]
  },
  {
   "cell_type": "code",
   "execution_count": 338,
   "id": "10f1f963-93e2-4c54-9230-54c0cfd92cee",
   "metadata": {},
   "outputs": [
    {
     "data": {
      "image/png": "[encoded data removed]",
      "text/plain": [
       "<Figure size 1000x500 with 1 Axes>"
      ]
     },
     "metadata": {},
     "output_type": "display_data"
    }
   ],
   "source": [
    "plt.figure(figsize=(10, 5))\n",
    "plt.plot(terminal_prices, normalized_state_prices, marker='o')\n",
    "plt.xlabel('Terminal Price (Strike)')\n",
    "plt.ylabel('State Prices')\n",
    "plt.grid(True)\n",
    "plt.show()"
   ]
  },
  {
   "cell_type": "code",
   "execution_count": 340,
   "id": "52e0ef5d-eeca-4217-b203-d5c958a12bcb",
   "metadata": {},
   "outputs": [
    {
     "name": "stdout",
     "output_type": "stream",
     "text": [
      "Once again, the modeled prices below are based solely on calls so they may not represent the full picture.\n"
     ]
    },
    {
     "data": {
      "text/html": [
       "<div>\n",
       "<style scoped>\n",
       "    .dataframe tbody tr th:only-of-type {\n",
       "        vertical-align: middle;\n",
       "    }\n",
       "\n",
       "    .dataframe tbody tr th {\n",
       "        vertical-align: top;\n",
       "    }\n",
       "\n",
       "    .dataframe thead th {\n",
       "        text-align: right;\n",
       "    }\n",
       "</style>\n",
       "<table border=\"1\" class=\"dataframe\">\n",
       "  <thead>\n",
       "    <tr style=\"text-align: right;\">\n",
       "      <th></th>\n",
       "      <th>Strike</th>\n",
       "      <th>$Call</th>\n",
       "      <th>$Put</th>\n",
       "    </tr>\n",
       "  </thead>\n",
       "  <tbody>\n",
       "    <tr>\n",
       "      <th>0</th>\n",
       "      <td>160.0</td>\n",
       "      <td>50.938735</td>\n",
       "      <td>0.000000</td>\n",
       "    </tr>\n",
       "    <tr>\n",
       "      <th>1</th>\n",
       "      <td>165.0</td>\n",
       "      <td>45.938735</td>\n",
       "      <td>0.000000</td>\n",
       "    </tr>\n",
       "    <tr>\n",
       "      <th>2</th>\n",
       "      <td>170.0</td>\n",
       "      <td>41.166008</td>\n",
       "      <td>0.227273</td>\n",
       "    </tr>\n",
       "    <tr>\n",
       "      <th>3</th>\n",
       "      <td>175.0</td>\n",
       "      <td>36.393281</td>\n",
       "      <td>0.454545</td>\n",
       "    </tr>\n",
       "    <tr>\n",
       "      <th>4</th>\n",
       "      <td>180.0</td>\n",
       "      <td>31.620553</td>\n",
       "      <td>0.681818</td>\n",
       "    </tr>\n",
       "    <tr>\n",
       "      <th>5</th>\n",
       "      <td>185.0</td>\n",
       "      <td>26.847826</td>\n",
       "      <td>0.909091</td>\n",
       "    </tr>\n",
       "    <tr>\n",
       "      <th>6</th>\n",
       "      <td>190.0</td>\n",
       "      <td>22.208498</td>\n",
       "      <td>1.269763</td>\n",
       "    </tr>\n",
       "    <tr>\n",
       "      <th>7</th>\n",
       "      <td>195.0</td>\n",
       "      <td>17.934783</td>\n",
       "      <td>1.996047</td>\n",
       "    </tr>\n",
       "    <tr>\n",
       "      <th>8</th>\n",
       "      <td>200.0</td>\n",
       "      <td>13.833992</td>\n",
       "      <td>2.895257</td>\n",
       "    </tr>\n",
       "    <tr>\n",
       "      <th>9</th>\n",
       "      <td>205.0</td>\n",
       "      <td>10.177866</td>\n",
       "      <td>4.239130</td>\n",
       "    </tr>\n",
       "    <tr>\n",
       "      <th>10</th>\n",
       "      <td>210.0</td>\n",
       "      <td>7.065217</td>\n",
       "      <td>6.126482</td>\n",
       "    </tr>\n",
       "    <tr>\n",
       "      <th>11</th>\n",
       "      <td>215.0</td>\n",
       "      <td>4.644269</td>\n",
       "      <td>8.705534</td>\n",
       "    </tr>\n",
       "    <tr>\n",
       "      <th>12</th>\n",
       "      <td>220.0</td>\n",
       "      <td>2.826087</td>\n",
       "      <td>11.887352</td>\n",
       "    </tr>\n",
       "    <tr>\n",
       "      <th>13</th>\n",
       "      <td>225.0</td>\n",
       "      <td>1.655138</td>\n",
       "      <td>15.716403</td>\n",
       "    </tr>\n",
       "    <tr>\n",
       "      <th>14</th>\n",
       "      <td>230.0</td>\n",
       "      <td>0.963439</td>\n",
       "      <td>20.024704</td>\n",
       "    </tr>\n",
       "    <tr>\n",
       "      <th>15</th>\n",
       "      <td>235.0</td>\n",
       "      <td>0.568182</td>\n",
       "      <td>24.629447</td>\n",
       "    </tr>\n",
       "    <tr>\n",
       "      <th>16</th>\n",
       "      <td>240.0</td>\n",
       "      <td>0.350791</td>\n",
       "      <td>29.412055</td>\n",
       "    </tr>\n",
       "    <tr>\n",
       "      <th>17</th>\n",
       "      <td>245.0</td>\n",
       "      <td>0.241389</td>\n",
       "      <td>34.302654</td>\n",
       "    </tr>\n",
       "    <tr>\n",
       "      <th>18</th>\n",
       "      <td>250.0</td>\n",
       "      <td>0.160926</td>\n",
       "      <td>39.222191</td>\n",
       "    </tr>\n",
       "    <tr>\n",
       "      <th>19</th>\n",
       "      <td>255.0</td>\n",
       "      <td>0.080463</td>\n",
       "      <td>44.141728</td>\n",
       "    </tr>\n",
       "    <tr>\n",
       "      <th>20</th>\n",
       "      <td>260.0</td>\n",
       "      <td>0.000000</td>\n",
       "      <td>49.061265</td>\n",
       "    </tr>\n",
       "  </tbody>\n",
       "</table>\n",
       "</div>"
      ],
      "text/plain": [
       "    Strike      $Call       $Put\n",
       "0    160.0  50.938735   0.000000\n",
       "1    165.0  45.938735   0.000000\n",
       "2    170.0  41.166008   0.227273\n",
       "3    175.0  36.393281   0.454545\n",
       "4    180.0  31.620553   0.681818\n",
       "5    185.0  26.847826   0.909091\n",
       "6    190.0  22.208498   1.269763\n",
       "7    195.0  17.934783   1.996047\n",
       "8    200.0  13.833992   2.895257\n",
       "9    205.0  10.177866   4.239130\n",
       "10   210.0   7.065217   6.126482\n",
       "11   215.0   4.644269   8.705534\n",
       "12   220.0   2.826087  11.887352\n",
       "13   225.0   1.655138  15.716403\n",
       "14   230.0   0.963439  20.024704\n",
       "15   235.0   0.568182  24.629447\n",
       "16   240.0   0.350791  29.412055\n",
       "17   245.0   0.241389  34.302654\n",
       "18   250.0   0.160926  39.222191\n",
       "19   255.0   0.080463  44.141728\n",
       "20   260.0   0.000000  49.061265"
      ]
     },
     "execution_count": 340,
     "metadata": {},
     "output_type": "execute_result"
    }
   ],
   "source": [
    "call_prices = call_payoff_matrix @ normalized_state_prices\n",
    "put_prices = put_payoff_matrix @ normalized_state_prices\n",
    "\n",
    "call_prices = pd.DataFrame({\n",
    "    'Strike': chosen_strikes,\n",
    "    '$Call': call_prices,\n",
    "    '$Put': put_prices\n",
    "})\n",
    "print('Once again, the modeled prices below are based solely on calls so they may not represent the full picture.')\n",
    "call_prices\n"
   ]
  }
 ],
 "metadata": {
  "kernelspec": {
   "display_name": "Python [conda env:base] *",
   "language": "python",
   "name": "conda-base-py"
  },
  "language_info": {
   "codemirror_mode": {
    "name": "ipython",
    "version": 3
   },
   "file_extension": ".py",
   "mimetype": "text/x-python",
   "name": "python",
   "nbconvert_exporter": "python",
   "pygments_lexer": "ipython3",
   "version": "3.12.7"
  }
 },
 "nbformat": 4,
 "nbformat_minor": 5
}
